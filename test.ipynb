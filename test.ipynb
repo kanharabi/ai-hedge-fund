{
 "cells": [
  {
   "cell_type": "code",
   "execution_count": null,
   "id": "539183d4",
   "metadata": {},
   "outputs": [
    {
     "name": "stdout",
     "output_type": "stream",
     "text": [
      "content='The capital of France is **Paris**.' additional_kwargs={'refusal': None} response_metadata={'token_usage': {'completion_tokens': 10, 'prompt_tokens': 14, 'total_tokens': 24, 'completion_tokens_details': {'accepted_prediction_tokens': 0, 'audio_tokens': 0, 'reasoning_tokens': 0, 'rejected_prediction_tokens': 0}, 'prompt_tokens_details': {'audio_tokens': 0, 'cached_tokens': 0}}, 'model_name': 'gpt-4.1-2025-04-14', 'system_fingerprint': 'fp_3dfb47c1f3', 'id': 'chatcmpl-BVZGloeIvGkBGkMslQ3VHrRg6GhFB', 'prompt_filter_results': [{'prompt_index': 0, 'content_filter_results': {'hate': {'filtered': False, 'severity': 'safe'}, 'jailbreak': {'filtered': False, 'detected': False}, 'self_harm': {'filtered': False, 'severity': 'safe'}, 'sexual': {'filtered': False, 'severity': 'safe'}, 'violence': {'filtered': False, 'severity': 'safe'}}}], 'finish_reason': 'stop', 'logprobs': None, 'content_filter_results': {'hate': {'filtered': False, 'severity': 'safe'}, 'protected_material_code': {'filtered': False, 'detected': False}, 'protected_material_text': {'filtered': False, 'detected': False}, 'self_harm': {'filtered': False, 'severity': 'safe'}, 'sexual': {'filtered': False, 'severity': 'safe'}, 'violence': {'filtered': False, 'severity': 'safe'}}} id='run-097176ba-d4cb-448c-a706-2f14f6a7cae1-0' usage_metadata={'input_tokens': 14, 'output_tokens': 10, 'total_tokens': 24, 'input_token_details': {'audio': 0, 'cache_read': 0}, 'output_token_details': {'audio': 0, 'reasoning': 0}}\n"
     ]
    }
   ],
   "source": [
    "import os\n",
    "from langchain_openai import ChatOpenAI, AzureChatOpenAI\n",
    "\n",
    "api_key = os.getenv(\"AZURE_API_KEY\")\n",
    "endpoint = os.getenv(\"AZURE_ENDPOINT\")\n",
    "version = os.getenv(\"AZURE_API_VERSION\") or \"2025-01-01-preview\"\n",
    "llm = AzureChatOpenAI(\n",
    "    azure_endpoint=endpoint,\n",
    "    api_version=version,\n",
    "    api_key=api_key,\n",
    "    azure_deployment=\"gpt-4.1\",\n",
    ")\n",
    "response = llm.with_structured_output(\"What is the capital of France?\")\n",
    "print(response)\n"
   ]
  },
  {
   "cell_type": "code",
   "execution_count": 8,
   "id": "67c6a792",
   "metadata": {},
   "outputs": [
    {
     "data": {
      "text/plain": [
       "0"
      ]
     },
     "execution_count": 8,
     "metadata": {},
     "output_type": "execute_result"
    }
   ],
   "source": [
    "from datetime import datetime\n",
    "end_date = \"2025-05-13 16:00:00\"\n",
    "(datetime.now() - datetime.fromisoformat(end_date)).days"
   ]
  },
  {
   "cell_type": "code",
   "execution_count": null,
   "id": "cbca34e6",
   "metadata": {},
   "outputs": [],
   "source": [
    "\n",
    "python -m debugpy --listen 0.0.0.0:5678 --wait-for-client src/main.py --ticker MSFT,GOOGL,NVDA,WFC,MRK,XOM --initial-cash 100000 --margin-requirement 0.18 --benchmark_against VOO --end-date 2023-01-01 --show-agent-graph\n",
    "\n",
    "python -m debugpy --listen 0.0.0.0:5678 --wait-for-client src/main.py --ticker MSFT,GOOGL,NVDA,WFC,MRK,XOM --initial-cash 100000 --margin-requirement 0.18 --benchmark_against VOO --end-date 2023-02-15\n",
    "\n",
    "python -m debugpy --listen 0.0.0.0:5678 --wait-for-client src/main.py --ticker MSFT,GOOGL,HON,CAT,LLY,JNJ,GS,AXP,PLD,MCD,KO --initial-cash 100000 --margin-requirement 0.18 --benchmark_against VOO --end-date 2023-01-02\n"
   ]
  },
  {
   "cell_type": "code",
   "execution_count": 5,
   "id": "e34593aa",
   "metadata": {},
   "outputs": [
    {
     "name": "stdout",
     "output_type": "stream",
     "text": [
      "\n",
      "\n",
      "\u001b[33mTotal portfolio amount: asda\u001b[0m\n"
     ]
    }
   ],
   "source": [
    "from colorama import Fore, init, Style\n",
    "print(f\"\\n\\n{Fore.YELLOW}Total portfolio amount: {'asda'}{Style.RESET_ALL}\")"
   ]
  }
 ],
 "metadata": {
  "kernelspec": {
   "display_name": "agentic",
   "language": "python",
   "name": "python3"
  },
  "language_info": {
   "codemirror_mode": {
    "name": "ipython",
    "version": 3
   },
   "file_extension": ".py",
   "mimetype": "text/x-python",
   "name": "python",
   "nbconvert_exporter": "python",
   "pygments_lexer": "ipython3",
   "version": "3.12.0"
  }
 },
 "nbformat": 4,
 "nbformat_minor": 5
}
